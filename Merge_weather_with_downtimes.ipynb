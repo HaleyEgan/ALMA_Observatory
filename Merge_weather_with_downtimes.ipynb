{
 "cells": [
  {
   "cell_type": "code",
   "execution_count": 0,
   "metadata": {},
   "outputs": [],
   "source": [
    "# -*- coding: utf-8 -*-\n",
    "import dataiku\n",
    "import pandas as pd, numpy as np\n",
    "from dataiku import pandasutils as pdu\n",
    "\n",
    "\n",
    "# Read recipe inputs\n",
    "weather_alma_data2 = dataiku.Dataset(\"weather_alma_data2\")\n",
    "weather_alma_data2_df = weather_alma_data2.get_dataframe()\n",
    "downtimes_dim_tp = dataiku.Dataset(\"downtimes_dim_tp\")\n",
    "downtimes_dim_tp_df = downtimes_dim_tp.get_dataframe()"
   ]
  },
  {
   "cell_type": "code",
   "execution_count": 0,
   "metadata": {},
   "outputs": [],
   "source": [
    "weather_alma_data2_df.drop_duplicates(subset=['date'], inplace=True, keep='last')"
   ]
  },
  {
   "cell_type": "code",
   "execution_count": 0,
   "metadata": {},
   "outputs": [],
   "source": [
    "def get_meteo_entries(meteo_data_df, start_time, end_time, downtime_id):\n",
    "   tmp_df = meteo_data_df.query('@start_time < date < @end_time').copy()\n",
    "   tmp_df['DOWNTIME_ENTRY_ID'] = downtime_id\n",
    "   return tmp_df"
   ]
  },
  {
   "cell_type": "code",
   "execution_count": 0,
   "metadata": {},
   "outputs": [],
   "source": [
    "n = 0\n",
    "weather_downtimes_merged_tp = dataiku.Dataset(\"weather_downtimes_merged_tp\")\n",
    "for row in downtimes_dim_tp_df.head(1).iterrows():\n",
    "    tmp_df = get_meteo_entries(weather_alma_data2_df, row[1].START_TIME, row[1].END_TIME, row[1].DOWNTIME_ENTRY_ID)\n",
    "    df = downtimes_dim_tp_df.query(\n",
    "        'DOWNTIME_ENTRY_ID == @row[1].DOWNTIME_ENTRY_ID'\n",
    "    ).merge(\n",
    "        tmp_df, on='DOWNTIME_ENTRY_ID'\n",
    "    )\n",
    "    if n == 0:\n",
    "        weather_downtimes_merged_tp.write_with_schema(df)\n",
    "\n",
    "with weather_downtimes_merged_tp.get_writer() as writer:\n",
    "    for row in downtimes_dim_tp_df.iloc[1:].iterrows():\n",
    "        tmp_df = get_meteo_entries(weather_alma_data2_df, row[1].START_TIME, row[1].END_TIME, row[1].DOWNTIME_ENTRY_ID)\n",
    "        df = downtimes_dim_tp_df.query(\n",
    "            'DOWNTIME_ENTRY_ID == @row[1].DOWNTIME_ENTRY_ID'\n",
    "        ).merge(\n",
    "            tmp_df, on='DOWNTIME_ENTRY_ID'\n",
    "        )\n",
    "        print(n)\n",
    "        if n == 0:\n",
    "            writer.write_dataframe(df)\n",
    "            n += 1\n",
    "        else:\n",
    "            writer.write_dataframe(df)"
   ]
  }
 ],
 "metadata": {
  "associatedRecipe": "compute_weather_downtimes_merged_tp",
  "createdOn": 1682824201385,
  "creator": "dmd8a",
  "customFields": {},
  "hide_input": false,
  "kernelspec": {
   "display_name": "Python 3",
   "language": "python",
   "name": "python3"
  },
  "language_info": {
   "codemirror_mode": {
    "name": "ipython",
    "version": 3
   },
   "file_extension": ".py",
   "mimetype": "text/x-python",
   "name": "python",
   "nbconvert_exporter": "python",
   "pygments_lexer": "ipython3",
   "version": "3.7.16"
  },
  "modifiedBy": "dmd8a",
  "tags": [
   "recipe-editor"
  ]
 },
 "nbformat": 4,
 "nbformat_minor": 1
}
