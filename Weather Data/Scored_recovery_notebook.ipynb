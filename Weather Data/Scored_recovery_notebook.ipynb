{
 "cells": [
  {
   "cell_type": "code",
   "execution_count": 0,
   "metadata": {},
   "outputs": [],
   "source": [
    "# -*- coding: utf-8 -*-\n",
    "import dataiku\n",
    "import pandas as pd, numpy as np\n",
    "from dataiku import pandasutils as pdu"
   ]
  },
  {
   "cell_type": "code",
   "execution_count": 0,
   "metadata": {},
   "outputs": [],
   "source": [
    "# Read recipe inputs\n",
    "weather_downtimes_12m = dataiku.Dataset(\"weather_downtimes_12m\")\n",
    "weather_downtimes_12m_df = weather_downtimes_12m.get_dataframe()"
   ]
  },
  {
   "cell_type": "code",
   "execution_count": 0,
   "metadata": {},
   "outputs": [],
   "source": [
    "df2 = weather_downtimes_12m_df.groupby('DOWNTIME_ENTRY_ID', as_index=False)['weather_score','time_to_end_min'].agg(list)\n",
    "#df2.head(10)"
   ]
  },
  {
   "cell_type": "code",
   "execution_count": 0,
   "metadata": {},
   "outputs": [],
   "source": [
    "#for row in df2['time_to_end_min']:\n",
    "#    print(row)"
   ]
  },
  {
   "cell_type": "code",
   "execution_count": 0,
   "metadata": {},
   "outputs": [],
   "source": [
    "#for row in df2['weather_score']:\n",
    "#    print(row)"
   ]
  },
  {
   "cell_type": "code",
   "execution_count": 0,
   "metadata": {},
   "outputs": [],
   "source": [
    "data = []\n",
    "for row in df2['weather_score']:\n",
    "    if any(x<2 for x in row):\n",
    "        data.append((list(map(lambda i: i<2, row)).index(True)))\n",
    "    else:\n",
    "        data.append(len(row)-1)\n",
    "#print(data)"
   ]
  },
  {
   "cell_type": "code",
   "execution_count": 0,
   "metadata": {},
   "outputs": [],
   "source": [
    "data2 = []\n",
    "for row in df2['weather_score']:\n",
    "    if any(x<2 for x in row):\n",
    "        data2.append((list(map(lambda i: i<2, row)).index(True)))\n",
    "    else:\n",
    "        data2.append('NA')"
   ]
  },
  {
   "cell_type": "code",
   "execution_count": 0,
   "metadata": {},
   "outputs": [],
   "source": [
    "time_list = df2.time_to_end_min.values.tolist()\n",
    "#time_list\n",
    "\n",
    "recovery_time=[time_list[i][data[i]] for i in range(len(data))]\n",
    "#recovery_time"
   ]
  },
  {
   "cell_type": "code",
   "execution_count": 0,
   "metadata": {},
   "outputs": [],
   "source": [
    "for i in range(len(recovery_time)):\n",
    "    if data2[i]=='NA':\n",
    "        recovery_time[i]='NA'\n",
    "#recovery_time"
   ]
  },
  {
   "cell_type": "code",
   "execution_count": 0,
   "metadata": {},
   "outputs": [],
   "source": [
    "df = pd.DataFrame({'Recovery Time (minutes)':recovery_time})\n",
    "df['DOWNTIME_ENTRY_ID']=df2['DOWNTIME_ENTRY_ID']\n",
    "df=df[['DOWNTIME_ENTRY_ID','Recovery Time (minutes)']]\n",
    "#df.head(25)"
   ]
  },
  {
   "cell_type": "code",
   "execution_count": 0,
   "metadata": {},
   "outputs": [],
   "source": [
    "#rslt_df = df[df['DOWNTIME_ENTRY_ID'] == 1643539]\n",
    "#rslt_df.head()"
   ]
  },
  {
   "cell_type": "code",
   "execution_count": 0,
   "metadata": {},
   "outputs": [],
   "source": [
    "weather_downtimes_12m_scored_recovery_df=weather_downtimes_12m_df.merge(df, on='DOWNTIME_ENTRY_ID', how='left')\n",
    "\n",
    "\n",
    "# Write recipe outputs\n",
    "weather_downtimes_12m_scored_recovery = dataiku.Dataset(\"weather_downtimes_12m_scored_recovery\")\n",
    "weather_downtimes_12m_scored_recovery.write_with_schema(weather_downtimes_12m_scored_recovery_df)"
   ]
  }
 ],
 "metadata": {
  "associatedRecipe": "compute_weather_downtimes_12m_scored_recovery",
  "createdOn": 1681680216148,
  "creator": "ddx4ng",
  "customFields": {},
  "hide_input": false,
  "kernelspec": {
   "display_name": "Python 3",
   "language": "python",
   "name": "python3"
  },
  "language_info": {
   "codemirror_mode": {
    "name": "ipython",
    "version": 3
   },
   "file_extension": ".py",
   "mimetype": "text/x-python",
   "name": "python",
   "nbconvert_exporter": "python",
   "pygments_lexer": "ipython3",
   "version": "3.7.16"
  },
  "modifiedBy": "dmd8a",
  "tags": [
   "recipe-editor"
  ]
 },
 "nbformat": 4,
 "nbformat_minor": 1
}
